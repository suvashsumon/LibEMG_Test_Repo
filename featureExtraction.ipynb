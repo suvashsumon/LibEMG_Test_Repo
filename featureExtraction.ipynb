{
 "cells": [
  {
   "cell_type": "code",
   "execution_count": 22,
   "metadata": {},
   "outputs": [],
   "source": [
    "import numpy as np\n",
    "from libemg.feature_extractor import FeatureExtractor\n",
    "from libemg.utils import get_windows\n",
    "import pandas as pd"
   ]
  },
  {
   "cell_type": "code",
   "execution_count": 30,
   "metadata": {},
   "outputs": [
    {
     "name": "stdout",
     "output_type": "stream",
     "text": [
      "(4237907, 11)\n"
     ]
    },
    {
     "data": {
      "text/html": [
       "<div>\n",
       "<style scoped>\n",
       "    .dataframe tbody tr th:only-of-type {\n",
       "        vertical-align: middle;\n",
       "    }\n",
       "\n",
       "    .dataframe tbody tr th {\n",
       "        vertical-align: top;\n",
       "    }\n",
       "\n",
       "    .dataframe thead th {\n",
       "        text-align: right;\n",
       "    }\n",
       "</style>\n",
       "<table border=\"1\" class=\"dataframe\">\n",
       "  <thead>\n",
       "    <tr style=\"text-align: right;\">\n",
       "      <th></th>\n",
       "      <th>time</th>\n",
       "      <th>channel1</th>\n",
       "      <th>channel2</th>\n",
       "      <th>channel3</th>\n",
       "      <th>channel4</th>\n",
       "      <th>channel5</th>\n",
       "      <th>channel6</th>\n",
       "      <th>channel7</th>\n",
       "      <th>channel8</th>\n",
       "      <th>class</th>\n",
       "      <th>label</th>\n",
       "    </tr>\n",
       "  </thead>\n",
       "  <tbody>\n",
       "    <tr>\n",
       "      <th>0</th>\n",
       "      <td>1</td>\n",
       "      <td>0.00001</td>\n",
       "      <td>-0.00002</td>\n",
       "      <td>-0.00001</td>\n",
       "      <td>-0.00003</td>\n",
       "      <td>0.00000</td>\n",
       "      <td>-0.00001</td>\n",
       "      <td>0.00000</td>\n",
       "      <td>-0.00001</td>\n",
       "      <td>0</td>\n",
       "      <td>1</td>\n",
       "    </tr>\n",
       "    <tr>\n",
       "      <th>1</th>\n",
       "      <td>5</td>\n",
       "      <td>0.00001</td>\n",
       "      <td>-0.00002</td>\n",
       "      <td>-0.00001</td>\n",
       "      <td>-0.00003</td>\n",
       "      <td>0.00000</td>\n",
       "      <td>-0.00001</td>\n",
       "      <td>0.00000</td>\n",
       "      <td>-0.00001</td>\n",
       "      <td>0</td>\n",
       "      <td>1</td>\n",
       "    </tr>\n",
       "    <tr>\n",
       "      <th>2</th>\n",
       "      <td>6</td>\n",
       "      <td>-0.00001</td>\n",
       "      <td>0.00001</td>\n",
       "      <td>0.00002</td>\n",
       "      <td>0.00000</td>\n",
       "      <td>0.00001</td>\n",
       "      <td>-0.00002</td>\n",
       "      <td>-0.00001</td>\n",
       "      <td>0.00001</td>\n",
       "      <td>0</td>\n",
       "      <td>1</td>\n",
       "    </tr>\n",
       "    <tr>\n",
       "      <th>3</th>\n",
       "      <td>7</td>\n",
       "      <td>-0.00001</td>\n",
       "      <td>0.00001</td>\n",
       "      <td>0.00002</td>\n",
       "      <td>0.00000</td>\n",
       "      <td>0.00001</td>\n",
       "      <td>-0.00002</td>\n",
       "      <td>-0.00001</td>\n",
       "      <td>0.00001</td>\n",
       "      <td>0</td>\n",
       "      <td>1</td>\n",
       "    </tr>\n",
       "    <tr>\n",
       "      <th>4</th>\n",
       "      <td>8</td>\n",
       "      <td>-0.00001</td>\n",
       "      <td>0.00001</td>\n",
       "      <td>0.00002</td>\n",
       "      <td>0.00000</td>\n",
       "      <td>0.00001</td>\n",
       "      <td>-0.00002</td>\n",
       "      <td>-0.00001</td>\n",
       "      <td>0.00001</td>\n",
       "      <td>0</td>\n",
       "      <td>1</td>\n",
       "    </tr>\n",
       "  </tbody>\n",
       "</table>\n",
       "</div>"
      ],
      "text/plain": [
       "   time  channel1  channel2  channel3  channel4  channel5  channel6  channel7  \\\n",
       "0     1   0.00001  -0.00002  -0.00001  -0.00003   0.00000  -0.00001   0.00000   \n",
       "1     5   0.00001  -0.00002  -0.00001  -0.00003   0.00000  -0.00001   0.00000   \n",
       "2     6  -0.00001   0.00001   0.00002   0.00000   0.00001  -0.00002  -0.00001   \n",
       "3     7  -0.00001   0.00001   0.00002   0.00000   0.00001  -0.00002  -0.00001   \n",
       "4     8  -0.00001   0.00001   0.00002   0.00000   0.00001  -0.00002  -0.00001   \n",
       "\n",
       "   channel8  class  label  \n",
       "0  -0.00001      0      1  \n",
       "1  -0.00001      0      1  \n",
       "2   0.00001      0      1  \n",
       "3   0.00001      0      1  \n",
       "4   0.00001      0      1  "
      ]
     },
     "execution_count": 30,
     "metadata": {},
     "output_type": "execute_result"
    }
   ],
   "source": [
    "df = pd.read_csv('EMG-data.csv')\n",
    "print(df.shape)\n",
    "df.head()"
   ]
  },
  {
   "cell_type": "code",
   "execution_count": 23,
   "metadata": {},
   "outputs": [],
   "source": [
    "# Load data from a csv file:\n",
    "data = np.loadtxt(\"emg_data.csv\", delimiter=\",\")\n",
    "data\n",
    "# Split the raw EMG into windows\n",
    "windows = get_windows(data, 50, 25)"
   ]
  },
  {
   "cell_type": "code",
   "execution_count": 8,
   "metadata": {},
   "outputs": [
    {
     "data": {
      "text/plain": [
       "['MAV',\n",
       " 'ZC',\n",
       " 'SSC',\n",
       " 'WL',\n",
       " 'LS',\n",
       " 'MFL',\n",
       " 'MSR',\n",
       " 'WAMP',\n",
       " 'RMS',\n",
       " 'IAV',\n",
       " 'DASDV',\n",
       " 'VAR',\n",
       " 'M0',\n",
       " 'M2',\n",
       " 'M4',\n",
       " 'SPARSI',\n",
       " 'IRF',\n",
       " 'WLF',\n",
       " 'AR',\n",
       " 'CC',\n",
       " 'LD',\n",
       " 'MAVFD',\n",
       " 'MAVSLP',\n",
       " 'MDF',\n",
       " 'MNF',\n",
       " 'MNP',\n",
       " 'MPK',\n",
       " 'SKEW',\n",
       " 'KURT',\n",
       " 'RMSPHASOR',\n",
       " 'PAP',\n",
       " 'WLPHASOR',\n",
       " 'MZP',\n",
       " 'TM',\n",
       " 'SM',\n",
       " 'SAMPEN',\n",
       " 'FUZZYEN',\n",
       " 'DFTR',\n",
       " 'ISD',\n",
       " 'COR',\n",
       " 'MDIFF',\n",
       " 'MLK',\n",
       " 'ACT',\n",
       " 'MOB',\n",
       " 'COMP',\n",
       " 'WENG',\n",
       " 'WV',\n",
       " 'WWL',\n",
       " 'WENT']"
      ]
     },
     "execution_count": 8,
     "metadata": {},
     "output_type": "execute_result"
    }
   ],
   "source": [
    "fe = FeatureExtractor()\n",
    "fe.get_feature_list()"
   ]
  },
  {
   "cell_type": "code",
   "execution_count": 19,
   "metadata": {},
   "outputs": [],
   "source": [
    "# Extract a list of features\n",
    "feature_list = ['MAV', 'SSC', 'ZC', 'WL']\n",
    "features_1 = fe.extract_features(feature_list, windows)"
   ]
  },
  {
   "cell_type": "code",
   "execution_count": 31,
   "metadata": {},
   "outputs": [
    {
     "data": {
      "text/plain": [
       "array([[3.266000e+01, 1.300000e-05, 1.820000e-05, ..., 6.200000e-06,\n",
       "        0.000000e+00, 1.000000e+00],\n",
       "       [6.334000e+01, 1.160000e-05, 4.800000e-05, ..., 1.040000e-05,\n",
       "        0.000000e+00, 1.000000e+00],\n",
       "       [9.062000e+01, 1.060000e-05, 3.880000e-05, ..., 1.260000e-05,\n",
       "        0.000000e+00, 1.000000e+00],\n",
       "       ...,\n",
       "       [5.313080e+04, 1.060000e-05, 4.120000e-05, ..., 2.300000e-05,\n",
       "        4.000000e+00, 9.000000e+00],\n",
       "       [5.315638e+04, 6.200000e-06, 3.300000e-05, ..., 1.600000e-05,\n",
       "        4.000000e+00, 9.000000e+00],\n",
       "       [5.318190e+04, 1.420000e-05, 2.340000e-05, ..., 1.440000e-05,\n",
       "        4.000000e+00, 9.000000e+00]])"
      ]
     },
     "execution_count": 31,
     "metadata": {},
     "output_type": "execute_result"
    }
   ],
   "source": [
    "features_1['MAV']"
   ]
  },
  {
   "cell_type": "code",
   "execution_count": 32,
   "metadata": {},
   "outputs": [
    {
     "data": {
      "text/plain": [
       "array([[ 0, 47, 48, ..., 48, 48, 48],\n",
       "       [ 0, 47, 48, ..., 48, 48, 48],\n",
       "       [ 0, 48, 48, ..., 48, 48, 48],\n",
       "       ...,\n",
       "       [ 0, 48, 48, ..., 48, 48, 48],\n",
       "       [ 0, 48, 48, ..., 48, 48, 48],\n",
       "       [ 0, 48, 48, ..., 48, 48, 48]])"
      ]
     },
     "execution_count": 32,
     "metadata": {},
     "output_type": "execute_result"
    }
   ],
   "source": [
    "features_1['SSC']"
   ]
  },
  {
   "cell_type": "code",
   "execution_count": 33,
   "metadata": {},
   "outputs": [],
   "source": [
    "# Extract a predefined feature group\n",
    "features_2 = fe.extract_feature_group('HTD', windows)"
   ]
  },
  {
   "cell_type": "code",
   "execution_count": 35,
   "metadata": {},
   "outputs": [
    {
     "data": {
      "text/plain": [
       "array([[3.266000e+01, 1.300000e-05, 1.820000e-05, ..., 6.200000e-06,\n",
       "        0.000000e+00, 1.000000e+00],\n",
       "       [6.334000e+01, 1.160000e-05, 4.800000e-05, ..., 1.040000e-05,\n",
       "        0.000000e+00, 1.000000e+00],\n",
       "       [9.062000e+01, 1.060000e-05, 3.880000e-05, ..., 1.260000e-05,\n",
       "        0.000000e+00, 1.000000e+00],\n",
       "       ...,\n",
       "       [5.313080e+04, 1.060000e-05, 4.120000e-05, ..., 2.300000e-05,\n",
       "        4.000000e+00, 9.000000e+00],\n",
       "       [5.315638e+04, 6.200000e-06, 3.300000e-05, ..., 1.600000e-05,\n",
       "        4.000000e+00, 9.000000e+00],\n",
       "       [5.318190e+04, 1.420000e-05, 2.340000e-05, ..., 1.440000e-05,\n",
       "        4.000000e+00, 9.000000e+00]])"
      ]
     },
     "execution_count": 35,
     "metadata": {},
     "output_type": "execute_result"
    }
   ],
   "source": [
    "features_2['MAV']"
   ]
  },
  {
   "cell_type": "code",
   "execution_count": 36,
   "metadata": {},
   "outputs": [
    {
     "data": {
      "text/plain": [
       "array([[ 0, 47, 48, ..., 48, 48, 48],\n",
       "       [ 0, 47, 48, ..., 48, 48, 48],\n",
       "       [ 0, 48, 48, ..., 48, 48, 48],\n",
       "       ...,\n",
       "       [ 0, 48, 48, ..., 48, 48, 48],\n",
       "       [ 0, 48, 48, ..., 48, 48, 48],\n",
       "       [ 0, 48, 48, ..., 48, 48, 48]])"
      ]
     },
     "execution_count": 36,
     "metadata": {},
     "output_type": "execute_result"
    }
   ],
   "source": [
    "features_2['SSC']"
   ]
  }
 ],
 "metadata": {
  "kernelspec": {
   "display_name": "Python 3",
   "language": "python",
   "name": "python3"
  },
  "language_info": {
   "codemirror_mode": {
    "name": "ipython",
    "version": 3
   },
   "file_extension": ".py",
   "mimetype": "text/x-python",
   "name": "python",
   "nbconvert_exporter": "python",
   "pygments_lexer": "ipython3",
   "version": "3.10.12"
  }
 },
 "nbformat": 4,
 "nbformat_minor": 2
}
